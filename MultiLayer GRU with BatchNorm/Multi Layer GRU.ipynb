{
 "cells": [
  {
   "cell_type": "code",
   "execution_count": 13,
   "metadata": {},
   "outputs": [],
   "source": [
    "import torch \n",
    "import math\n",
    "import torch.nn.functional as F\n",
    "import matplotlib.pyplot as plt\n",
    "d = 'cuda' "
   ]
  },
  {
   "cell_type": "code",
   "execution_count": 14,
   "metadata": {},
   "outputs": [],
   "source": [
    "words = open('names.txt', 'r').read().split()"
   ]
  },
  {
   "cell_type": "code",
   "execution_count": 15,
   "metadata": {},
   "outputs": [],
   "source": [
    "\n",
    "chars = sorted(list(set(''.join(words))))\n",
    "stoi = {s:i+1 for i,s in enumerate(chars)}\n",
    "stoi['.'] = 0\n",
    "\n",
    "itos = {i:s for s,i in stoi.items()}\n",
    "vocab_size = len(itos)"
   ]
  },
  {
   "cell_type": "code",
   "execution_count": 16,
   "metadata": {},
   "outputs": [],
   "source": [
    "def build_dataset(words):\n",
    "\n",
    "    X,Y = [],[]\n",
    "    block_size = 8\n",
    "    for w in words:\n",
    "        context = [0] * block_size\n",
    "        for ch in w + '.':\n",
    "            ix = stoi[ch]\n",
    "\n",
    "            Y.append(ix)\n",
    "            X.append(context)\n",
    "            context = context[1:] + [ix]\n",
    "    \n",
    "    X = torch.tensor(X, device=d)\n",
    "    Y = torch.tensor(Y, device=d)\n",
    "    print(X.shape, Y.shape)\n",
    "    return X,Y"
   ]
  },
  {
   "cell_type": "code",
   "execution_count": 17,
   "metadata": {},
   "outputs": [
    {
     "name": "stdout",
     "output_type": "stream",
     "text": [
      "torch.Size([182778, 8]) torch.Size([182778])\n",
      "torch.Size([22633, 8]) torch.Size([22633])\n",
      "torch.Size([22735, 8]) torch.Size([22735])\n"
     ]
    }
   ],
   "source": [
    "n1 = int(0.8 * len(words))\n",
    "n2 = int(0.9 * len(words))\n",
    "xtr,ytr = build_dataset(words[:n1])\n",
    "xdev,ydev = build_dataset(words[n1:n2])\n",
    "xte,yte = build_dataset(words[n2:])"
   ]
  },
  {
   "cell_type": "code",
   "execution_count": 18,
   "metadata": {},
   "outputs": [],
   "source": [
    "\n",
    "class Linear:\n",
    "\n",
    "    def __init__(self, fan_in, fan_out, bias=False):\n",
    "        self.weight = torch.randn((fan_in, fan_out), device=d) / fan_in **0.5\n",
    "        self.bias = torch.randn(fan_out, device=d) if bias else None\n",
    "        \n",
    "    def __call__(self, x):\n",
    "        self.out = x @ self.weight\n",
    "        if self.bias is not None:\n",
    "            self.out += self.bias\n",
    "        return self.out\n",
    "\n",
    "    def parameters(self):\n",
    "        return [self.weight] + ([] if self.bias is None else [self.bias])\n",
    "#-------------------------------------------------------------------\n",
    "\n",
    "class Embedding:\n",
    "\n",
    "    def __init__(self, num_emb, emb_dim):\n",
    "        self.weight = torch.randn((num_emb, emb_dim),device=d)\n",
    "\n",
    "    def __call__(self,x):\n",
    "        self.out = self.weight[x]\n",
    "        return self.out\n",
    "\n",
    "    def parameters(self):\n",
    "        return [self.weight]\n",
    "\n",
    "#-------------------------------------------------------------------\n",
    "\n",
    "class BatchNorm:\n",
    "\n",
    "    def __init__(self, dim, eps=1e-5, momentum=0.1):\n",
    "        self.eps = eps\n",
    "        self.momentum = momentum\n",
    "        self.training = True\n",
    "        # learnable params\n",
    "        self.gamma = torch.ones(dim, device=d)\n",
    "        self.beta = torch.zeros(dim, device=d)\n",
    "        # buffers: updated while running\n",
    "        self.running_mean = torch.zeros(dim, device=d)\n",
    "        self.running_var = torch.ones(dim, device=d)\n",
    "\n",
    "    def __call__(self, x):\n",
    "        if self.training:\n",
    "            if x.ndim == 2:\n",
    "                dim = 0\n",
    "            elif x.ndim == 3:\n",
    "                dim = (0,1)\n",
    "            xmean = x.mean(dim, keepdim=True)\n",
    "            xvar = x.var(dim, keepdim=True)\n",
    "        else:\n",
    "            xmean = self.running_mean\n",
    "            xvar = self.running_var\n",
    "        xhat = (x-xmean) / (xvar+self.eps) ** 0.5\n",
    "        self.out = self.gamma * xhat + self.beta\n",
    "       \n",
    "        if self.training:\n",
    "            with torch.no_grad():\n",
    "                self.running_mean = (1 - self.momentum) * self.running_mean + self.momentum * xmean\n",
    "                self.running_var = (1 - self.momentum) * self.running_var + self.momentum * xvar\n",
    "        return self.out\n",
    "\n",
    "    def parameters(self):\n",
    "        return [self.gamma, self.beta]\n",
    "\n",
    "\n",
    "\n",
    "#-------------------------------------------------------------------\n",
    "class Tanh:\n",
    "    def __call__(self,x):\n",
    "        self.out =  torch.tanh(x)\n",
    "        return self.out\n",
    "\n",
    "    def parameters(self):\n",
    "        return []\n",
    "\n",
    "#-------------------------------------------------------------------\n",
    "class Sequential:\n",
    "\n",
    "    def __init__(self,layers):\n",
    "        self.layers = layers\n",
    "\n",
    "    def __call__(self,x):\n",
    "        for layer in self.layers:\n",
    "            x = layer(x)\n",
    "        self.out = x\n",
    "        return self.out\n",
    "\n",
    "    def parameters(self):\n",
    "        # get paramters of all layers and stretch them out into one list\n",
    "        return [p for layer in self.layers for p in layer.parameters()]\n",
    "\n",
    "    def train(self, mode=True):\n",
    "        for layer in self.layers:\n",
    "            if hasattr(layer, 'train'):\n",
    "                layer.train(mode)"
   ]
  },
  {
   "cell_type": "code",
   "execution_count": 19,
   "metadata": {},
   "outputs": [],
   "source": [
    "class GRU:\n",
    "\n",
    "    def __init__(self, _in, h_d, num_layers=3, bnorm=True):\n",
    "        self.num_layers = num_layers\n",
    "        self.h_d = h_d\n",
    "        self.use_bn = bnorm\n",
    "        self.params = {}\n",
    "\n",
    "        for gate in ['z', 'r', 'h']:\n",
    "            self.params[f'w{gate}'] = []\n",
    "            self.params[f'u{gate}'] = []\n",
    "            self.params[f'b{gate}'] = []\n",
    "\n",
    "        if self.use_bn:\n",
    "            self.bnorms = { \n",
    "                \"bn_r\": [],\n",
    "                \"bn_z\": [],\n",
    "                \"bn_h\": []\n",
    "        }\n",
    "\n",
    "        for layer in range(self.num_layers):\n",
    "            input_dim = _in if layer == 0 else h_d\n",
    "\n",
    "             # Gates\n",
    "            for gate in ['z', 'r', 'h']:\n",
    "                self.params[f\"w{gate}\"].append(torch.randn(input_dim, h_d, device=d) / math.sqrt(input_dim))\n",
    "                self.params[f\"u{gate}\"].append(torch.randn(h_d, h_d, device=d) / math.sqrt(h_d))\n",
    "                self.params[f\"b{gate}\"].append(torch.zeros(h_d, device=d))\n",
    "        \n",
    "            # BatchNorms\n",
    "            if self.use_bn:\n",
    "                self.bnorms[\"bn_r\"].append(BatchNorm(h_d))\n",
    "                self.bnorms[\"bn_z\"].append(BatchNorm(h_d))\n",
    "                self.bnorms[\"bn_h\"].append(BatchNorm(h_d))\n",
    "\n",
    "\n",
    "    def __call__(self,x, return_seq=False):\n",
    "        B,seq = x.shape[0],x.shape[1]\n",
    "\n",
    "        for layer in range(self.num_layers):\n",
    "            h = torch.zeros(B, self.h_d, device=d)\n",
    "            current_layer_outputs = []\n",
    "\n",
    "            for t in range(seq):\n",
    "                xt = x[:, t, :]\n",
    "                    \n",
    "                wz, uz, bz = self.params['wz'][layer], self.params['uz'][layer], self.params['bz'][layer]\n",
    "                wr, ur, br = self.params['wr'][layer], self.params['ur'][layer], self.params['br'][layer]\n",
    "                wh, uh, bh = self.params['wh'][layer], self.params['uh'][layer], self.params['bh'][layer]           \n",
    "                xz = xt @ wz\n",
    "                xr = xt @ wr\n",
    "                xh = xt @ wh\n",
    "\n",
    "                if self.use_bn:\n",
    "                    xz = self.bnorms[\"bn_z\"][layer](xz)\n",
    "                    xr = self.bnorms[\"bn_r\"][layer](xr)\n",
    "                    xh = self.bnorms[\"bn_h\"][layer](xh)\n",
    "\n",
    "                rt = torch.sigmoid(xr + h @ ur + br)  # reset gate\n",
    "                zt = torch.sigmoid(xz + h @ uz + bz)  # updated gate\n",
    "                h_tilde = torch.tanh(xh + (h * rt) @ uh + bh)\n",
    "                h = (1-zt) * h + zt * h_tilde\n",
    "                current_layer_outputs.append(h)  \n",
    "            \n",
    "            x = torch.stack(current_layer_outputs, dim=1)\n",
    "\n",
    "        self.out = x if return_seq else x[:, -1, :]\n",
    "        return self.out\n",
    "\n",
    "\n",
    "    def train(self, mode=True):\n",
    "        if self.use_bn:\n",
    "            for name in self.bnorms:\n",
    "                for bn in self.bnorms[name]:\n",
    "                    bn.training = mode\n",
    "\n",
    "\n",
    "    def parameters(self):\n",
    "        params = []\n",
    "        \n",
    "        # Add GRU weights and biases\n",
    "        for key in self.params:\n",
    "            for p in self.params[key]:\n",
    "                params.append(p)\n",
    "        \n",
    "        # Add BatchNorm parameters if used\n",
    "        if self.use_bn:\n",
    "            for key in self.bnorms:\n",
    "                for bn in self.bnorms[key]:\n",
    "                    params.extend(bn.parameters())  # each bn.parameters() is a list\n",
    "\n",
    "        return params\n"
   ]
  },
  {
   "cell_type": "code",
   "execution_count": 20,
   "metadata": {},
   "outputs": [
    {
     "name": "stdout",
     "output_type": "stream",
     "text": [
      "282208\n"
     ]
    }
   ],
   "source": [
    "emb_dim = 32\n",
    "hidden_state = 128\n",
    "\n",
    "# model = Sequential([\n",
    "#     Embedding(vocab_size, emb_dim),\n",
    "#     GRU(emb_dim, hidden_state),\n",
    "#     Linear(hidden_state, 27)\n",
    "# ])\n",
    "\n",
    "model = Sequential([\n",
    "    Embedding(vocab_size, emb_dim),\n",
    "    GRU(emb_dim, hidden_state),\n",
    "    Linear(hidden_state, hidden_state),  # Extra projection layer\n",
    "    Tanh(),\n",
    "    Linear(hidden_state, vocab_size),\n",
    "])\n",
    "\n",
    "parameters = model.parameters()\n",
    "\n",
    "for p in parameters:\n",
    "    p.requires_grad = True\n",
    "\n",
    "print(sum(p.nelement() for p in parameters))\n",
    "\n",
    "lossi = []"
   ]
  },
  {
   "cell_type": "code",
   "execution_count": 21,
   "metadata": {},
   "outputs": [
    {
     "name": "stdout",
     "output_type": "stream",
     "text": [
      "torch.Size([4, 8])\n"
     ]
    },
    {
     "data": {
      "text/plain": [
       "tensor([[ 0,  0,  0,  0, 14,  1, 11,  8],\n",
       "        [ 0,  0,  0,  0,  0,  0, 11,  5],\n",
       "        [ 0,  0,  0,  0,  0,  0,  0, 13],\n",
       "        [ 0,  0,  0,  0,  0,  0,  1, 12]], device='cuda:0')"
      ]
     },
     "execution_count": 21,
     "metadata": {},
     "output_type": "execute_result"
    }
   ],
   "source": [
    "ix = torch.randint(0, xtr.shape[0], (4,)) \n",
    "Xb,Yb = xtr[ix], ytr[ix]\n",
    "logits = model(Xb)\n",
    "print(Xb.shape)\n",
    "Xb"
   ]
  },
  {
   "cell_type": "code",
   "execution_count": 22,
   "metadata": {},
   "outputs": [
    {
     "name": "stdout",
     "output_type": "stream",
     "text": [
      "Embedding : (4, 8, 32)\n",
      "GRU : (4, 128)\n",
      "Linear : (4, 128)\n",
      "Tanh : (4, 128)\n",
      "Linear : (4, 27)\n"
     ]
    }
   ],
   "source": [
    "for layer in model.layers:\n",
    "    print(layer.__class__.__name__, ':', tuple(layer.out.shape))"
   ]
  },
  {
   "cell_type": "code",
   "execution_count": 23,
   "metadata": {},
   "outputs": [],
   "source": [
    "model.train(False)\n"
   ]
  },
  {
   "cell_type": "code",
   "execution_count": 65,
   "metadata": {},
   "outputs": [
    {
     "name": "stdout",
     "output_type": "stream",
     "text": [
      "      0/   5000: 2.438370\n",
      "    200/   5000: 2.088076\n",
      "    400/   5000: 1.772020\n",
      "    600/   5000: 2.054077\n",
      "    800/   5000: 2.173436\n",
      "   1000/   5000: 2.261066\n",
      "   1200/   5000: 2.294366\n",
      "   1400/   5000: 1.991923\n",
      "   1600/   5000: 2.374691\n",
      "   1800/   5000: 2.020822\n",
      "   2000/   5000: 2.215531\n",
      "   2200/   5000: 1.826537\n",
      "   2400/   5000: 2.146207\n",
      "   2600/   5000: 2.129124\n",
      "   2800/   5000: 2.492601\n",
      "   3000/   5000: 2.709848\n",
      "   3200/   5000: 1.912327\n",
      "   3400/   5000: 2.077540\n",
      "   3600/   5000: 2.422579\n",
      "   3800/   5000: 2.354076\n",
      "   4000/   5000: 2.452008\n",
      "   4200/   5000: 2.277665\n",
      "   4400/   5000: 1.989995\n",
      "   4600/   5000: 2.431522\n",
      "   4800/   5000: 2.212845\n"
     ]
    }
   ],
   "source": [
    "steps = 5000\n",
    "batch_size = 32\n",
    "\n",
    "for i in range(steps):\n",
    "\n",
    "    ix = torch.randint(0, xtr.shape[0],(batch_size, ), device=d)\n",
    "    xb, yb = xtr[ix], ytr[ix]\n",
    "\n",
    "    # forward pass\n",
    "    logits = model(xb)\n",
    "    loss = F.cross_entropy(logits, yb)\n",
    "\n",
    "    # backward pass\n",
    "    for p in parameters:\n",
    "        p.grad = None\n",
    "\n",
    "    loss.backward()\n",
    "    lr = 0.0001\n",
    "\n",
    "    for p in parameters:\n",
    "        p.data -= p.grad * lr\n",
    "\n",
    "    if i % 200 == 0:  # print every once in a while\n",
    "        print(f'{i:7d}/{steps:7d}: {loss.item():4f}')\n",
    "    lossi.append(loss.log10().item())"
   ]
  },
  {
   "cell_type": "code",
   "execution_count": 66,
   "metadata": {},
   "outputs": [
    {
     "data": {
      "text/plain": [
       "40000"
      ]
     },
     "execution_count": 66,
     "metadata": {},
     "output_type": "execute_result"
    }
   ],
   "source": [
    "len(lossi)"
   ]
  },
  {
   "cell_type": "code",
   "execution_count": 67,
   "metadata": {},
   "outputs": [
    {
     "data": {
      "image/png": "[encoded data removed]",
      "text/plain": [
       "<Figure size 640x480 with 1 Axes>"
      ]
     },
     "metadata": {},
     "output_type": "display_data"
    }
   ],
   "source": [
    "plt.plot(torch.tensor(lossi).view(-1,200).mean(1));"
   ]
  },
  {
   "cell_type": "code",
   "execution_count": 70,
   "metadata": {},
   "outputs": [
    {
     "name": "stdout",
     "output_type": "stream",
     "text": [
      "train 2.3220717906951904\n",
      "val 2.566006660461426\n"
     ]
    }
   ],
   "source": [
    "# evaluate the loss\n",
    "@torch.no_grad()\n",
    "def split_loss(split):\n",
    "    x,y = {\n",
    "        'train' : (xtr,ytr),\n",
    "        'val' : (xdev, ydev),\n",
    "        'test' : (xte, xte)\n",
    "    }[split]\n",
    "    logits = model(x)\n",
    "    loss = F.cross_entropy(logits,y)\n",
    "    print(split, loss.item())\n",
    "\n",
    "split_loss('train')\n",
    "split_loss('val')\n"
   ]
  },
  {
   "cell_type": "code",
   "execution_count": 69,
   "metadata": {},
   "outputs": [],
   "source": [
    "model.train(False)\n"
   ]
  },
  {
   "cell_type": "code",
   "execution_count": 78,
   "metadata": {},
   "outputs": [
    {
     "name": "stdout",
     "output_type": "stream",
     "text": [
      "lonlay.\n",
      "rayan.\n",
      "einis.\n",
      "jesynne.\n",
      "elon.\n",
      "eilion.\n",
      "eaileyn.\n",
      "lousah.\n",
      "caleist.\n",
      "yesiia.\n",
      "oeany.\n",
      "meliyan.\n",
      "etlianr.\n",
      "saylian.\n",
      "eayly.\n",
      "alynn.\n",
      "aliny.\n",
      "emrah.\n",
      "maislan.\n",
      "eollira.\n"
     ]
    }
   ],
   "source": [
    "block_size = 8\n",
    "\n",
    "\n",
    "for _ in range(20):\n",
    "\n",
    "    out = []\n",
    "    context = [0] * block_size  # initialise with all..\n",
    "    while True:\n",
    "        # forward pass the neural net\n",
    "        logits = model(torch.tensor([context], device=d))\n",
    "        probs = F.softmax(logits, dim=1) ** 1.65\n",
    "        # sample from the distribution\n",
    "        ix = torch.multinomial(probs, num_samples=1).item()\n",
    "        # shift the context window and track the samples\n",
    "        context = context[1:] + [ix]\n",
    "        out.append(ix)\n",
    "        # if we sample the special '.' token, break\n",
    "        if ix == 0:\n",
    "            break\n",
    "    print(''.join(itos[i] for i in out))"
   ]
  },
  {
   "cell_type": "code",
   "execution_count": null,
   "metadata": {},
   "outputs": [],
   "source": []
  },
  {
   "cell_type": "code",
   "execution_count": null,
   "metadata": {},
   "outputs": [],
   "source": []
  }
 ],
 "metadata": {
  "kernelspec": {
   "display_name": "ml-env",
   "language": "python",
   "name": "python3"
  },
  "language_info": {
   "codemirror_mode": {
    "name": "ipython",
    "version": 3
   },
   "file_extension": ".py",
   "mimetype": "text/x-python",
   "name": "python",
   "nbconvert_exporter": "python",
   "pygments_lexer": "ipython3",
   "version": "3.11.8"
  }
 },
 "nbformat": 4,
 "nbformat_minor": 2
}
